{
 "cells": [
  {
   "cell_type": "code",
   "execution_count": 28,
   "id": "f40af46b",
   "metadata": {},
   "outputs": [
    {
     "name": "stdout",
     "output_type": "stream",
     "text": [
      "\n",
      "           __________100_____________\n",
      "          /                          \\\n",
      "        _50______           _________200_\n",
      "       /         \\         /             \\\n",
      "  ____25      ____75     175_____        250_____\n",
      " /           /                   \\               \\\n",
      "10          66                  _180            _300\n",
      "  \\           \\                /               /\n",
      "   15          70            177             275\n",
      "\n",
      "100\n",
      "├── 200\n",
      "│   ├── 250\n",
      "│   │   └── 300\n",
      "│   │       └── 275\n",
      "│   └── 175\n",
      "│       └── 180\n",
      "│           └── 177\n",
      "└── 50\n",
      "    ├── 75\n",
      "    │   └── 66\n",
      "    │       └── 70\n",
      "    └── 25\n",
      "        └── 10\n",
      "            └── 15\n"
     ]
    }
   ],
   "source": [
    "from binarytree import build,Node\n",
    "\n",
    "\n",
    "root=Node(100)\n",
    "root.left=Node(50)\n",
    "root.left.left=Node(25)\n",
    "root.left.left.left=Node(10)\n",
    "root.left.left.left.right=Node(15)\n",
    "root.left.right=Node(75)\n",
    "root.left.right.left=Node(66)\n",
    "root.left.right.left.right=Node(70)\n",
    "root.right=Node(200)\n",
    "root.right.right=Node(250)\n",
    "root.right.right.right=Node(300)\n",
    "root.right.right.right.left=Node(275)\n",
    "root.right.left=Node(175)\n",
    "root.right.left.right=Node(180)\n",
    "root.right.left.right.left=Node(177)\n",
    "\n",
    "\n",
    "print(root)\n",
    "\n",
    "from anytree import Node,RenderTree\n",
    "\n",
    "num1=Node(100)\n",
    "num2=Node(200,parent=num1)\n",
    "num4=Node(250,parent=num2)\n",
    "num6=Node(300,parent=num4)\n",
    "num7=Node(275,parent=num6)\n",
    "num5=Node(175,parent=num2)\n",
    "num8=Node(180,parent=num5)\n",
    "num9=Node(177,parent=num8)\n",
    "num3=Node(50,parent=num1)\n",
    "num13=Node(75,parent=num3)\n",
    "num14=Node(66,parent=num13)\n",
    "num15=Node(70,parent=num14)\n",
    "num10=Node(25,parent=num3)\n",
    "num11=Node(10,parent=num10)\n",
    "num12=Node(15,parent=num11)\n",
    "\n",
    "\n",
    "for pre, fill, node in RenderTree(num1):\n",
    "    print(\"%s%s\" % (pre, node.name))\n"
   ]
  },
  {
   "cell_type": "code",
   "execution_count": 29,
   "id": "63ddb02e",
   "metadata": {},
   "outputs": [
    {
     "ename": "NameError",
     "evalue": "name 'udo' is not defined",
     "output_type": "error",
     "traceback": [
      "\u001b[0;31m---------------------------------------------------------------------------\u001b[0m",
      "\u001b[0;31mNameError\u001b[0m                                 Traceback (most recent call last)",
      "\u001b[0;32m/var/folders/qn/7r8b2zmj73533l689kg550lr0000gn/T/ipykernel_58976/1976777449.py\u001b[0m in \u001b[0;36m<module>\u001b[0;34m\u001b[0m\n\u001b[1;32m      1\u001b[0m \u001b[0;32mfrom\u001b[0m \u001b[0manytree\u001b[0m\u001b[0;34m.\u001b[0m\u001b[0mexporter\u001b[0m \u001b[0;32mimport\u001b[0m \u001b[0mDotExporter\u001b[0m\u001b[0;34m\u001b[0m\u001b[0;34m\u001b[0m\u001b[0m\n\u001b[1;32m      2\u001b[0m \u001b[0;31m# graphviz needs to be installed for the next line!\u001b[0m\u001b[0;34m\u001b[0m\u001b[0;34m\u001b[0m\u001b[0m\n\u001b[0;32m----> 3\u001b[0;31m \u001b[0mDotExporter\u001b[0m\u001b[0;34m(\u001b[0m\u001b[0mudo\u001b[0m\u001b[0;34m)\u001b[0m\u001b[0;34m.\u001b[0m\u001b[0mto_picture\u001b[0m\u001b[0;34m(\u001b[0m\u001b[0;34m\"udo.png\"\u001b[0m\u001b[0;34m)\u001b[0m\u001b[0;34m\u001b[0m\u001b[0;34m\u001b[0m\u001b[0m\n\u001b[0m",
      "\u001b[0;31mNameError\u001b[0m: name 'udo' is not defined"
     ]
    }
   ],
   "source": [
    "from anytree.exporter import DotExporter\n",
    "# graphviz needs to be installed for the next line!\n",
    "DotExporter(udo).to_picture(\"udo.png\")"
   ]
  },
  {
   "cell_type": "code",
   "execution_count": null,
   "id": "3b5c2cda",
   "metadata": {},
   "outputs": [],
   "source": []
  }
 ],
 "metadata": {
  "kernelspec": {
   "display_name": "Python 3 (ipykernel)",
   "language": "python",
   "name": "python3"
  },
  "language_info": {
   "codemirror_mode": {
    "name": "ipython",
    "version": 3
   },
   "file_extension": ".py",
   "mimetype": "text/x-python",
   "name": "python",
   "nbconvert_exporter": "python",
   "pygments_lexer": "ipython3",
   "version": "3.9.7"
  }
 },
 "nbformat": 4,
 "nbformat_minor": 5
}
