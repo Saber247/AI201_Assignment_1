{
 "cells": [
  {
   "cell_type": "code",
   "execution_count": 7,
   "id": "2bf5826c",
   "metadata": {},
   "outputs": [],
   "source": [
    "from queue import Queue\n",
    "\n",
    "def is_safe(board, row, col):\n",
    "    for i in range(row):\n",
    "        if board[i] == col or board[i] - i == col - row or board[i] + i == col + row:\n",
    "            return False\n",
    "    return True\n",
    "\n",
    "def n_queens_bfs(n):\n",
    "    queue = Queue()\n",
    "    queue.put([])\n",
    "    while not queue.empty():\n",
    "        board = queue.get()\n",
    "        row = len(board)\n",
    "        if row == n:\n",
    "            # Found a solution\n",
    "            return board\n",
    "        for col in range(n):\n",
    "            if is_safe(board, row, col):\n",
    "                # Generate a successor state and add it to the queue\n",
    "                successor = board + [col]\n",
    "                queue.put(successor)\n",
    "    # Exhausted the search space without finding a solution\n",
    "    return None\n"
   ]
  },
  {
   "cell_type": "code",
   "execution_count": 9,
   "id": "bddcc731",
   "metadata": {},
   "outputs": [
    {
     "name": "stdout",
     "output_type": "stream",
     "text": [
      "Solution found:  [1, 3, 0, 2]\n"
     ]
    }
   ],
   "source": [
    "n = 4  \n",
    "solution = n_queens_bfs(n)\n",
    "if solution:\n",
    "    print(\"Solution found: \", solution)\n",
    "else:\n",
    "    print(\"No solution found for size \", n)"
   ]
  },
  {
   "cell_type": "code",
   "execution_count": null,
   "id": "222024ce",
   "metadata": {},
   "outputs": [],
   "source": []
  },
  {
   "cell_type": "code",
   "execution_count": null,
   "id": "ba0690f4",
   "metadata": {},
   "outputs": [],
   "source": []
  }
 ],
 "metadata": {
  "kernelspec": {
   "display_name": "Python 3 (ipykernel)",
   "language": "python",
   "name": "python3"
  },
  "language_info": {
   "codemirror_mode": {
    "name": "ipython",
    "version": 3
   },
   "file_extension": ".py",
   "mimetype": "text/x-python",
   "name": "python",
   "nbconvert_exporter": "python",
   "pygments_lexer": "ipython3",
   "version": "3.9.7"
  }
 },
 "nbformat": 4,
 "nbformat_minor": 5
}
